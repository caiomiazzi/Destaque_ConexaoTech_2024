{
 "cells": [
  {
   "cell_type": "markdown",
   "metadata": {},
   "source": [
    "# Indice de Dissimilaridade.\n",
    "\n",
    "O Código abaixo calcula o quão não similar a empresa é em termos de diversidade, focado em etnia/raça e gênero, em relação ao IBGE.\n",
    "\n",
    "Ou seja com ele podemos saber a diferença porcentual dos empregados de uma empresa em relação à distribuição da diversidade na população brasileira.\n",
    "\n",
    "Esse indice nos ajuda pois com estudos como o do ID-BR, que indicam que um acréscimo de 10% na diversidade de uma empresa se obtem um aumento de por volta de 5% de produtividade. Portanto com este indice podemos calcular quanto que uma empresa pode ter de aumento de produtividade caso esta melhore sua diversidade."
   ]
  },
  {
   "cell_type": "code",
   "execution_count": 4,
   "metadata": {},
   "outputs": [
    {
     "name": "stdout",
     "output_type": "stream",
     "text": [
      "O indice de dissimilaridade de genero é : 0.26%\n",
      "O indice de dissimilaridade de Raça é : 0.01%\n",
      "O indice de dissimilaridade geral é : 0.14%\n"
     ]
    }
   ],
   "source": [
    "import numpy as np\n",
    "\n",
    "# Dados do IBGE\n",
    "# Raças e suas respectivas porcentagens na população brasileira\n",
    "racas = ['Pardo', 'Preto', 'Branco', 'Amarelo', 'Indígena']\n",
    "dados_IBGE = [45.30, 10.20, 43.50, 0.40, 0.60]\n",
    "\n",
    "# Dados da empresa - Raça\n",
    "# Porcentagens de cada raça para diferentes níveis de cargo na empresa\n",
    "dados_empresa_raca = {\n",
    "    'Pardo': [47.54, 45.88, 46.23, 49.94],  # Júnior, Pleno, Sênior, Gestor\n",
    "    'Preto': [9.31, 8.64, 9.15, 7.93],       # Júnior, Pleno, Sênior, Gestor\n",
    "    'Branco': [42.28, 44.55, 43.17, 41.31],  # Júnior, Pleno, Sênior, Gestor\n",
    "    'Amarelo': [0.44, 0.4, 0.55, 0.57],      # Júnior, Pleno, Sênior, Gestor\n",
    "    'Indígena': [0.44, 0.4, 0.55, 0.57]      # Júnior, Pleno, Sênior, Gestor\n",
    "}\n",
    "\n",
    "# Dados do IBGE - Gênero\n",
    "# Porcentagens de gênero na população brasileira\n",
    "porcentagem_feminino_IBGE = 51.50\n",
    "porcentagem_masculino_IBGE = 48.50\n",
    "\n",
    "# Dados da empresa - Gênero\n",
    "# Porcentagens de gênero para diferentes níveis de cargo na empresa\n",
    "dados_empresa_genero = {\n",
    "    'Pleno': [25.73, 74.27],  # Feminino, Masculino\n",
    "    'Júnior': [25.96, 74.04], # Feminino, Masculino\n",
    "    'Gestor': [23.68, 76.32], # Feminino, Masculino\n",
    "    'Sênior': [24.77, 75.23]  # Feminino, Masculino\n",
    "}\n",
    "\n",
    "# Calcular as proporções de raça da empresa e do IBGE\n",
    "# Transpor a matriz para que as dimensões coincidam\n",
    "proporcoes_empresa_raca = np.array([dados_empresa_raca[raca] for raca in racas]).T / 100\n",
    "proporcoes_IBGE_raca = np.array(dados_IBGE) / 100\n",
    "\n",
    "# Calcular as proporções de gênero da empresa e do IBGE\n",
    "proporcoes_empresa_genero = np.array([dados_empresa_genero[cargo] for cargo in dados_empresa_genero]) / 100\n",
    "proporcoes_IBGE_genero = np.array([porcentagem_feminino_IBGE, porcentagem_masculino_IBGE]) / 100\n",
    "\n",
    "# Calcular a diferença média absoluta para raça\n",
    "diff_raca = np.abs(proporcoes_empresa_raca - proporcoes_IBGE_raca).mean()\n",
    "\n",
    "# Calcular a diferença média absoluta para gênero\n",
    "diff_genero = np.abs(proporcoes_empresa_genero - proporcoes_IBGE_genero).mean()\n",
    "\n",
    "# Calcular o Índice de Dissimilaridade\n",
    "indice_dissimilaridade = (diff_raca + diff_genero) / 2\n",
    "\n",
    "# Imprimir o Índice de Dissimilaridade\n",
    "print(f'O indice de dissimilaridade de genero é : {round(diff_genero,2)}%')\n",
    "print(f'O indice de dissimilaridade de Raça é : {round(diff_raca,2)}%')\n",
    "print(f'O indice de dissimilaridade geral é : {round(indice_dissimilaridade,2)}%')\n"
   ]
  }
 ],
 "metadata": {
  "kernelspec": {
   "display_name": "base",
   "language": "python",
   "name": "python3"
  },
  "language_info": {
   "codemirror_mode": {
    "name": "ipython",
    "version": 3
   },
   "file_extension": ".py",
   "mimetype": "text/x-python",
   "name": "python",
   "nbconvert_exporter": "python",
   "pygments_lexer": "ipython3",
   "version": "3.11.5"
  }
 },
 "nbformat": 4,
 "nbformat_minor": 2
}
